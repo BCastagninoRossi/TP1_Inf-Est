{
 "cells": [
  {
   "cell_type": "markdown",
   "id": "3f34fdc3",
   "metadata": {},
   "source": [
    "![udesa](imgs/udesa_marca.png)\n",
    "<h1><center> <font size=\"14\">Contraste de Hipótesis. <br> Estadístico T-Student. </font></center></h1>"
   ]
  },
  {
   "cell_type": "code",
   "execution_count": null,
   "id": "b75cc455",
   "metadata": {},
   "outputs": [],
   "source": [
    "import numpy as np\n",
    "import pandas as pd\n",
    "import matplotlib.pyplot as plt\n",
    "import scipy.stats as stats\n",
    "import math"
   ]
  },
  {
   "cell_type": "markdown",
   "id": "af23f402",
   "metadata": {},
   "source": [
    "# Estadístico T-Student.\n",
    "\n",
    "El estadístico *t-Student* permite compara la media muestral $\\bar {x}$ con una media poblacional, $\\mu$ supuesta conocida, en el caso donde no se conoce la varianza $\\sigma^2$, y se la estima a partir del estimador $s^2$.\n",
    "\n",
    "Se considera que la muestra $X = \\{x_1, x_2, ...., x_n \\}$ está formada por $n$ variables aleatorias gaussianas independientes e idénticamente distribuidas. **Y por lo tanto se asume que poseen igual media y varianza**. Se define la media muestral $ \\bar {x}$:\n",
    "\n",
    "$$ \\bar {x} = \\frac{1}{n} \\sum_{i=1}^{n} x_i$$\n",
    "\n",
    "y el estimador de la varianza muestral está dado por:\n",
    "\n",
    "$$ s^{2} = \\frac{1}{n-1} \\sum_{i=1}^{n} (x_i - \\bar{x})^2$$\n",
    "\n",
    "queda definido el estadístico como\n",
    "\n",
    "$$t =  \\frac {\\sqrt{n-1}}{n} \\frac {\\sum_{i=1}^{n} x_i -\\mu }{\\sqrt {\\sum_{i=1}^{n} x_i^2}} = {\\frac {{\\bar {x}}-\\mu }{\\sqrt {s^{2}/n}}}$$.\n",
    "\n",
    "\n",
    "La **función densidad de probabilidad t-student** para $\\nu = n-1$ grados de libertad, está dada por:\n",
    "\n",
    "$$f(t)={\\frac {\\Gamma ({\\frac {\\nu +1}{2}})}{{\\sqrt {\\nu \\pi }}\\,\\Gamma ({\\frac {\\nu }{2}})}}\\left(1+{\\frac {t^{2}}{\\nu }}\\right)^{-(\\nu +1)/2}$$\n",
    "\n",
    "\n",
    "![](imgs/Student_t.png)\n",
    "https://en.wikipedia.org/wiki/Student%27s_t-distribution#/media/File:Student_t_pdf.svg\n",
    "\n",
    "Se debe confirmar entonces:\n",
    "\n",
    "\n",
    "1. **Independencia**. Depende fuertemente del experimento (Pearson).\n",
    "2. **Normalidad**. Las v.a. en el t-test requieren ser normales. (Kolmogorov-Smirnov, Shapiro-Wilks, Lilliefors)\n",
    "3. **Homocedasticidad**. La varianza debe conservarse (Estadístico F - Test de Barlet - Test de Levene).\n"
   ]
  },
  {
   "cell_type": "markdown",
   "id": "f4a568f0",
   "metadata": {},
   "source": [
    "# Muestras. \n",
    "\n",
    "Se conoce que la **media de consumo de determinado alimento es de 35Kg por año**. ($\\mu = 35$). Por otra parte, una asociación de comerciantes, poseen dos puntos de ventas en los que se generaron dos muestras del consumo de sus clientes:"
   ]
  },
  {
   "cell_type": "code",
   "execution_count": null,
   "id": "5959890f",
   "metadata": {},
   "outputs": [],
   "source": [
    "# MEDIA POBLACIONAL\n",
    "mu = 35\n",
    "\n",
    "\n",
    "# Comercio 1\n",
    "\n",
    "data_comer1 = np.asarray(pd.read_csv('data/data_comer1.csv')['Consumo'])\n",
    "print(f'Comercio 1\\nCantidad de datos: {len(data_comer1)}\\nConsumo medio:{np.mean(data_comer1)}\\n')\n",
    "\n",
    "# Comercio 2\n",
    "\n",
    "data_comer2 = np.asarray(pd.read_csv('data/data_comer2.csv')['Consumo'])\n",
    "print(f'Comercio 2\\nCantidad de datos: {len(data_comer2)}\\nConsumo medio:{np.mean(data_comer2)}\\n')\n",
    "\n",
    "print('')\n",
    "\n",
    "f, ax = plt.subplots(1,2, figsize=(10,4))\n",
    "h = ax[0].hist(data_comer1,bins=20,density=True,color='#599AD3')\n",
    "ax[0].set_title('Comercio 1')\n",
    "h = ax[1].hist(data_comer2,bins=20,density=True,color='#599AD3')\n",
    "ax[1].set_title('Comercio 2')\n",
    "print('')"
   ]
  },
  {
   "cell_type": "code",
   "execution_count": null,
   "id": "9b53c244",
   "metadata": {},
   "outputs": [],
   "source": [
    "data_comer1"
   ]
  },
  {
   "cell_type": "markdown",
   "id": "8fdc5013",
   "metadata": {},
   "source": [
    "\n",
    "# t-Test a Realizar\n",
    "\n",
    "## Test de una muestra (One-Sample t-Test).  \n",
    "\n",
    "<div class=\"alert alert-block alert-info\">\n",
    "    \n",
    "Un **t-test de una muestra** busca comparar la **media de una muestra** con una media poblacional, o una media supuesta conocida, o algún parámetro supuesto con el que se quiera contrastar a la **media muestal**. \n",
    "\n",
    "\n",
    "</div> \n",
    "\n",
    "Se define el estadístico:\n",
    "\n",
    "$$t={\\frac {{\\bar {x}}-\\mu }{\\sqrt {s^{2}/n}}}$$.\n",
    "\n",
    "y la validación respecto al dato poblacional, se realiza mediante un Test de Hipótesis, donde se define $\\mathcal{H}_0 : \\mu = 35.76$ la media muestral no es diferente a la poblacional.\n",
    "\n",
    " \n",
    "$$\\begin{array}\\\\\n",
    "\\boldsymbol{ Aceptar \\, \\mathcal{H}_0 }& si & |t| > \\alpha \\\\\n",
    "\\boldsymbol{ Rechazar \\, \\mathcal{H}_0 } & si & |t| < \\alpha\n",
    "\\end{array}\n",
    "$$\n",
    "\n",
    "donde $\\alpha \\in \\mathcal{R}$ es el umbral de decisión, y $p = P(|t| > \\alpha)$ indica la confianza en el el rechazo de la la hipótesis $\\mathcal{H}_0$, es decir, es el error que se comete al rechazar $\\mathcal{H}_0$ cuando en realidad se cumple.\n"
   ]
  },
  {
   "cell_type": "markdown",
   "id": "8ddef92c",
   "metadata": {},
   "source": [
    "# Test de Independencia.\n",
    "\n",
    "La independencia está fuertemente ligada a la realización del experimento. Se asume que las muestras son independientes, y se mediante la correlación se pueden generar test para determinar la existencia de correlación\n",
    "\n",
    "## Test de Correlación\n",
    "La correlación de Pearson y de Spearman $H_0$: las variables aleatorias **no están correlacionadas**. Por lo tanto, el aceptarlas no pueden generar un conclusión sobre la independencia entre estas.\n",
    "\n",
    "* **Correlación de Pearson**: permite determinar dependencias lineales de variables aleatorias gaussianas. $H_0$: las distribuciones no están correlacionadas y tienen distribución normal: $${\\displaystyle \\rho _{X,Y}={\\frac {\\operatorname {cov} (X,Y)}{\\sigma _{X}\\sigma _{Y}}}}$$\n",
    "\n",
    "\n",
    "* **Coeficientes de Correlación de rangos de Spearman**. Igual que Pearson, pero no está limitado a normales. Siendo $R$ la función rango: $${\\displaystyle r_{s}=\\rho _{\\operatorname {R} (X),\\operatorname {R} (Y)}={\\frac {\\operatorname {cov} (\\operatorname {R} (X),\\operatorname {R} (Y))}{\\sigma _{\\operatorname {R} (X)}\\sigma _{\\operatorname {R} (Y)}}},}$$\n",
    "\n",
    "## Test $\\chi^2$ de Pearson para independencia. \n",
    "\n",
    "<div class=\"alert alert-block alert-info\">\n",
    "    \n",
    "El Test  $\\chi^2$ de Pearson es un test no paramétrico que se puede emplear para diferentes pruebas de bondad de ajuste. La prueba de independencia es considerar el ajuste de una distribución de probabilidad objetivo, proveniente de las muestras experimentales, con la distribución teórica de las muestras consideradas independientes.\n",
    "    \n",
    "</div> \n",
    "\n",
    "El test permite determinar si dos variables aleatorias $X_1$ y $X_2$ son independientes. Esa es justamente su hipótesis nula. $H_0$: **las variables aleatorias no están relacionadas (son independientes).**\n",
    "\n",
    "El test propone comparar dos distribuciones conjuntas:\n",
    "\n",
    "* $P_{O_1,O_2}(o_1,o_2)$, una distribución representativa de $P_{X_1,X_2}(x_1,x_2)$, donde $[O_1,O_2] = g([X_1, X_2])$, con $g(\\cdot)$ una transformación requerida y que no implique la pérdida de independencia \n",
    "    - g: una cuantización apropiada del dominio de $[X_1, X_2]$\n",
    "* <font size=\"5\">e</font>$_{O_1,O_2}(o_1,o_2) = f_{O_1}(O_1)~f_{O_2}(O_2)$ la distribución esperada si se cumple la hipótesis nula: $O_1$ y $O_2$ independientes.\n",
    "\n",
    "Para estimar estas distribuciones de probabilidades se emplea una **matriz de contingencia**, midiendo  la frecuencia de ocurrencia de tuplas $O_{ij}=\\#(o_1^i, o_2^j)= (cantidad\\,de\\,veces\\,que\\,ocurre\\, o_1^i \\, y\\, o_2^j)$, con $o_1^i \\in O_1$ y $o_2^j \\in O_2$.\n",
    "\n",
    "\n",
    "\n",
    "\n",
    "| |$o_2^1$|$o_2^2$| $\\cdots$ |$o_2^j$|$\\cdots$|$o_2^c$|$f^\\#_{O_1^i}(o_1^i)$|\n",
    "|:---:|:---:|:---:|:---:|:---:|:---:|:---:|:---:|\n",
    "|$o_1^1$| $O_{1,1}=\\#(o_1^1, o_2^1)$ | $O_{1,2}=\\#(o_1^1, o_2^2)$| $\\cdots$| | | |$\\sum_j O_{1,j}$ |\n",
    "|$o_1^2$| $O_{2,1}=\\#(o_1^2, o_2^1)$|  $O_{2,2}=\\#(o_1^2, o_2^2)$| $\\cdots$| | | |$\\sum_j O_{2,j}$ |\n",
    "|$\\vdots$| | | $\\ddots$| | | | $\\vdots$|\n",
    "|$o_1^i$| | |$\\cdots$|$O_{i,j} = \\#(o_1^i, o_2^j)$ |$\\cdots$| |$\\sum_j O_{i,j}$|\n",
    "|$\\vdots$| | | | |$\\ddots$ | | $\\vdots$|\n",
    "|$o_1^r$| | | | | | |$\\sum_j O_{r,j}$ |\n",
    "|$f^\\#_{O_2^j}(o_2^j)$| $\\sum_i O_{i,1}$| $\\sum_i O_{i,2}$|$\\cdots$| $\\sum_i O_{i,j}$|$\\cdots$|$ \\sum_{i} O_{i,c}$ |$n = \\sum_{i,j} O_{i,j}$ |\n",
    "\n",
    "\n",
    "donde las distribuciones marginales se definen como\n",
    "\n",
    "$$ f_{O_1^i} = \\frac{1}{n} f^\\#_{O_1^i} ~ y ~ f_{O_2^j} = \\frac{1}{n} f^\\#_{O_2^j}$$\n",
    "\n",
    "El estadístico se define por la comparación entre las entre dos distribuciones, $P_{O_1,O_2}(o_1,o_2)$  y <font size=\"5\">e</font>$_{O_1,O_2}(o_1,o_2)$:\n",
    "\n",
    "$$ \\chi ^{2}=\\sum _{i=1}^{r}\\sum _{j=1}^{c}{\\frac {(o_{i,j}-e_{i,j})^{2}}{e_{i,j}}}$$\n",
    "\n",
    "Siendo el estadístico una $\\chi^2$ con $\\rho = (r-1)(c-1)$ grados de libertad, donde $r$ es la cantidad de filas, $c$ es la cantidad de columnas de la matriz de contingencia; $o_{i,j}$ es la frecuencia o conteo de observaciones para una i,j-contingencia, y $e_{i,j}$ es la frecuencia teórica esperada , si se cumple la hipótesis nula, para dicha i,j-contingencia, por lo tanto queda definido como,\n",
    "\n",
    "$$ e_{ij} = \\sum_{i=1}^r O_{i,j} \\sum_{j=1}^c O_{i,j} $$\n",
    "\n",
    "### Prueba de Independencia para muestras reales.\n",
    "\n",
    "Entre dos muestras reales existen infinitos reales, por lo tanto, no se puede medir la frecuencia de ocurrencia entre muestras reales, puesto el ruido de medición hace que se encuentre, en general, una única vez una dupla $(x_1,x_2)$. Para ello se debe transformar el dominio mediante un proceso de **cuantización** de las variables aleatorias. Este proceso de cuantización es la transformación $g(\\cdot)$ a la que se hizo referencia anteriormente. La siguiente función permite cuantizar el domino representado por las muestras adquiridas:"
   ]
  },
  {
   "cell_type": "code",
   "execution_count": null,
   "id": "8b182043",
   "metadata": {},
   "outputs": [],
   "source": [
    "def cuantizacion( data, steps = 20):\n",
    "    \"\"\"\n",
    "    Cuantización del vector <data> en <steps> niveles.\n",
    "    \"\"\"\n",
    "    if steps < 2:\n",
    "        steps = 2\n",
    "    bins = np.arange(0.0,1.0+(1/steps), 1/steps)\n",
    "    bins = (np.max(data)-np.min(data))*bins + np.min(data) #determina los límites de cada bin-\n",
    "    bins = bins[1:-1]\n",
    "    return np.digitize(data,bins)\n"
   ]
  },
  {
   "cell_type": "code",
   "execution_count": null,
   "id": "2d65610e",
   "metadata": {},
   "outputs": [],
   "source": [
    "x = np.random.rand(20)\n",
    "y = np.random.rand(20) + x\n",
    "norm_x = cuantizacion(x, steps=4)\n",
    "norm_y = cuantizacion(y, steps=4)\n",
    "print(f'x: \\n {x}')\n",
    "print(f'norm_x: \\n {norm_x}')\n",
    "print(f'y: \\n {y}')\n",
    "print(f'norm_y: \\n {norm_y}')"
   ]
  },
  {
   "cell_type": "code",
   "execution_count": null,
   "id": "c3ef0568",
   "metadata": {},
   "outputs": [],
   "source": [
    "table = stats.contingency.crosstab(norm_x,norm_y)\n",
    "st = stats.chi2_contingency(table[1])\n",
    "print(f'p:{st[1]}')\n",
    "print(f'rango_x: {table[0][0]}')\n",
    "print(f'rango_y: {table[0][1]}')\n",
    "print(f'frecuencias:\\n {table[1]}')\n",
    "if st[1] > 0.05:\n",
    "    print(f'Se acepta H0(independencia). st: {st[0]}, p: {st[1]}')\n",
    "else:\n",
    "    print(f'Se rechaza H0, st: {st[0]}, p: {st[1]}')\n",
    "print('\\n')"
   ]
  },
  {
   "cell_type": "markdown",
   "id": "e65269fe",
   "metadata": {},
   "source": [
    "##### Seguimos con el práctico.\n",
    "Se cuantizan las muestras de `data_comer1` y `data_comer2`, y se analiza independencia."
   ]
  },
  {
   "cell_type": "markdown",
   "id": "6fbd72b0",
   "metadata": {},
   "source": [
    "\n"
   ]
  },
  {
   "cell_type": "code",
   "execution_count": null,
   "id": "ecbcd2f8",
   "metadata": {},
   "outputs": [],
   "source": [
    "# Independencia intra muestras Comercio 1\n",
    "\n",
    "print('Comercio 1:')\n",
    "\n",
    "cuant_comer1 = cuantizacion(data_comer1,10) # cuantización\n",
    "choice1 = cuant_comer1[:int(len(cuant_comer1)/2)]\n",
    "choice2 = cuant_comer1[int(len(cuant_comer1)/2):]\n",
    "table = stats.contingency.crosstab(choice1,choice2)\n",
    "st = stats.chi2_contingency(table[1])\n",
    "if st[1] > 0.05:\n",
    "    print(f'Se acepta H0(independencia). st: {st[0]}, p: {st[1]}')\n",
    "else:\n",
    "    print(f'Se rechaza H0, st: {st[0]}, p: {st[1]}')\n",
    "print('\\n')"
   ]
  },
  {
   "cell_type": "markdown",
   "id": "1bdf9c35",
   "metadata": {},
   "source": [
    "En más detalles, cómo evalúa el test a las series muestrales:"
   ]
  },
  {
   "cell_type": "code",
   "execution_count": null,
   "id": "defcacbb",
   "metadata": {},
   "outputs": [],
   "source": [
    "print('')\n",
    "print(f'Submuestras choice1:\\n{choice1}\\n')\n",
    "\n",
    "print(f'Submuestras choice2:\\n{choice2}\\n')\n",
    "\n",
    "print(f'p:{st[1]}')\n",
    "print(f'rango_choice1: {table[0][0]}')\n",
    "print(f'rango_choice2: {table[0][1]}')\n",
    "print(f'frecuencias:\\n {table[1]}')"
   ]
  },
  {
   "cell_type": "code",
   "execution_count": null,
   "id": "a376a89b",
   "metadata": {
    "scrolled": true
   },
   "outputs": [],
   "source": [
    "# Independencia intra muestras Comercio 2\n",
    "\n",
    "print('Comercio 2:')\n",
    "cuant_comer2 = cuantizacion(data_comer2,10)\n",
    "\n",
    "choice1 = cuant_comer2[:int(len(cuant_comer2)/2)]\n",
    "choice2 = cuant_comer2[int(len(cuant_comer2)/2):]\n",
    "table = stats.contingency.crosstab(choice1,choice2)\n",
    "st = stats.chi2_contingency(table[1])\n",
    "if st[1] > 0.05:\n",
    "    print(f'Se acepta H0(independencia). st: {st[0]}, p: {st[1]}')\n",
    "else:\n",
    "    print(f'Se rechaza H0, st: {st[0]}, p: {st[1]}')\n",
    "print('\\n')\n"
   ]
  },
  {
   "cell_type": "code",
   "execution_count": null,
   "id": "3b8525d8",
   "metadata": {},
   "outputs": [],
   "source": [
    "print('')\n",
    "print(f'Submuestras choice1:\\n{choice1}\\n')\n",
    "print(f'Submuestras choice2:\\n{choice2}\\n')\n",
    "\n",
    "print(f'p:{st[1]}')\n",
    "print(f'rango_choice1: {table[0][0]}')\n",
    "print(f'rango_choice2: {table[0][1]}')\n",
    "print(f'frecuencias:\\n {table[1]}')"
   ]
  },
  {
   "cell_type": "code",
   "execution_count": null,
   "id": "b41f3acc",
   "metadata": {},
   "outputs": [],
   "source": [
    "# Independencia muestras Comercio 1, Comercio 2\n",
    "\n",
    "print('Independencia Comercio1 - Comercio2')\n",
    "choice = cuant_comer2[0:len(data_comer1)] # selección de elementos de data_comer2\n",
    "table = stats.contingency.crosstab(cuant_comer1,choice)\n",
    "st = stats.chi2_contingency(table[1])\n",
    "if st[1] > 0.05:\n",
    "    print(f'Se acepta H0(independencia). st: {st[0]}, p: {st[1]}')\n",
    "else:\n",
    "    print(f'Se rechaza H0, st: {st[0]}, p: {st[1]}')"
   ]
  },
  {
   "cell_type": "code",
   "execution_count": null,
   "id": "48f9f9de",
   "metadata": {},
   "outputs": [],
   "source": [
    "print('')\n",
    "print(f'Submuestras choice1:\\n{choice1}\\n')\n",
    "print(f'Submuestras choice2:\\n{choice2}\\n')\n",
    "\n",
    "print(f'p:{st[1]}')\n",
    "print(f'rango_choice1: {table[0][0]}')\n",
    "print(f'rango_choice2: {table[0][1]}')\n",
    "print(f'frecuencias:\\n {table[1]}')"
   ]
  },
  {
   "cell_type": "markdown",
   "id": "73e56949",
   "metadata": {},
   "source": [
    "En ningún caso se rechazar $H_0$, por lo tanto se asume independencia. \n",
    "\n",
    "# Test de Normalidad.\n",
    "## Test de Kolmogorov-Smirnov.\n",
    "\n",
    "$$ F_{n}(x)={\\frac {{\\text{cantidad de (elementos en la muestra}}\\leq x)}{n}}$$\n",
    "\n",
    "Estadístico: \n",
    "\n",
    "$$D_{n}=\\sup _{x}|F_{n}(x)-F(x)|$$\n",
    "\n",
    "Distribución de Probabilidad de Smirnov:\n",
    "\n",
    "$$Pr (K\\leq x)=1-2\\sum _{k=1}^{\\infty }(-1)^{k-1}e^{-2k^{2}x^{2}}={\\frac {\\sqrt {2\\pi }}{x}}\\sum _{k=1}^{\\infty }e^{-(2k-1)^{2}\\pi ^{2}/(8x^{2})}$$\n",
    "\n",
    "$K=\\sup _{t\\in [0,1]}|B(t)|$, donde $B(t)$ es un proceso de tipo Puente Browniano.\n",
    "\n",
    "### Ejemplo. \n",
    "\n",
    "Se generan 1000 muestras de una v.a. N(0,1) **(entonces no se necesita normalizar)** y 1000 muestras de una v.a. Unif(0,1), se va a testear la normalidad."
   ]
  },
  {
   "cell_type": "code",
   "execution_count": null,
   "id": "0d732800",
   "metadata": {},
   "outputs": [],
   "source": [
    "\n",
    "n_samples = 100 \n",
    "muestras_normales = np.random.randn(n_samples)\n",
    "muestras_uniformes = np.random.uniform(size=n_samples)\n",
    "\n",
    "min_norm = np.min(muestras_normales)\n",
    "max_norm = np.max(muestras_normales)\n",
    "\n",
    "# Estimación CDF normal\n",
    "FNn = []\n",
    "for i in np.arange(min_norm, max_norm, 0.01):\n",
    "    FNn.append(sum(muestras_normales<i)/n_samples)\n",
    "    \n",
    "# Estimación CDF uniforme\n",
    "FUn = []\n",
    "for i in np.arange(min_norm, max_norm, 0.01):\n",
    "    FUn.append(sum(muestras_uniformes<i)/n_samples)\n",
    "\n",
    "# Función Distribución Acumulada normal (teórica)\n",
    "x = np.arange(min_norm, max_norm, 0.01)\n",
    "F = stats.norm.cdf(x)\n",
    "\n",
    "\n",
    "#Gráfico\n",
    "plt.figure(figsize=(6,6))\n",
    "plt.plot(x,FNn, label='FNn')\n",
    "plt.plot(x,F, label='F (normal)')\n",
    "plt.plot(x,FUn, label='FUn')\n",
    "plt.legend()\n",
    "plt.grid()"
   ]
  },
  {
   "cell_type": "markdown",
   "id": "b848abd5",
   "metadata": {},
   "source": [
    "Recordando, el estadístico que se emplea en el test es, \n",
    "\n",
    "$$D_{n}=\\sup _{x}|F_{n}(x)-F(x)|$$"
   ]
  },
  {
   "cell_type": "code",
   "execution_count": null,
   "id": "01246f74",
   "metadata": {},
   "outputs": [],
   "source": [
    "# Estadístico\n",
    "\n",
    "BUn = np.max(FUn-F)\n",
    "BNn = np.max(FNn-F)\n",
    "\n",
    "#p- Value\n",
    "rv = stats.ksone(n_samples) #dpf de smirnov (dpf del test KS de una muestra)\n",
    "\n",
    "print(f'Estadístico BUn: {BUn}, p-value: {1-rv.cdf(BUn)}')\n",
    "print(f'Estadístico BNn: {BNn}, p-value: {1-rv.cdf(BNn)}')\n",
    "\n",
    "xx = np.arange(0,0.2,0.001)\n",
    "plt.figure(figsize=(6,4))\n",
    "plt.plot(xx, rv.pdf(xx))\n",
    "plt.title('dpf de smirnov (dpf del test KS de una muestra)')\n",
    "plt.show()\n"
   ]
  },
  {
   "cell_type": "markdown",
   "id": "7a97f204",
   "metadata": {},
   "source": [
    "### Seguimos con el práctico."
   ]
  },
  {
   "cell_type": "code",
   "execution_count": null,
   "id": "1f6fafc5",
   "metadata": {},
   "outputs": [],
   "source": [
    "# algunas funciones:\n",
    "\n",
    "from scipy.stats import kstest, shapiro\n",
    "\n",
    "def testKSnormal(data):\n",
    "    # Kolmogorov-Smirnov\n",
    "    # Alta cantidad de muestras\n",
    "    # se extrae media y varianza para adaptar al test.\n",
    "    data_test = (data - np.mean(data))/np.std(data)\n",
    "\n",
    "    ks = kstest(data_test, 'norm')\n",
    "    print (f'KS_est: {ks.statistic} \\np_value: {ks.pvalue}')\n",
    "    if ks.pvalue < 0.05:\n",
    "        print('Rechazada H_0: no es distrib normal (p < 0.05)')\n",
    "    else:\n",
    "        print('Aceptada H_0: se considera distrib normal (p > 0.05)')\n",
    "    return ks\n",
    "\n",
    "def testShapironormal(data):\n",
    "    # Shapiro - Wilks\n",
    "    # Baja cantidad de muestras\n",
    "    # se extrae media y varianza para adaptar al test.\n",
    "    data_test = (data - np.mean(data))/np.std(data)\n",
    "    \n",
    "    sh = shapiro(data_test)\n",
    "    print (f'Shapiro_est: {sh.statistic} \\np_value: {sh.pvalue}')\n",
    "    if sh.pvalue < 0.05:\n",
    "        print('Rechazada H0: no es distrib normal (p < 0.05)')\n",
    "    else:\n",
    "        print('Aceptada H0: se considera distrib normal (p > 0.05)')\n",
    "    return sh"
   ]
  },
  {
   "cell_type": "code",
   "execution_count": null,
   "id": "c97d179e",
   "metadata": {},
   "outputs": [],
   "source": [
    "print('Test de normalidad de Comercio1')\n",
    "testShapironormal(data_comer1)\n",
    "print('\\n\\n')\n",
    "print('Test de normalidad de Comercio2')\n",
    "testShapironormal(data_comer2)\n",
    "print('')\n"
   ]
  },
  {
   "cell_type": "markdown",
   "id": "a8c91aea",
   "metadata": {},
   "source": [
    "Ninguna distribución es normal.\n",
    "\n",
    "\n",
    "![](imgs/sesgo.jpg)\n",
    "https://www.oreilly.com/library/view/clojure-for-data/9781784397180/ch01s13.html\n",
    "\n",
    "Las distribuciones tiene un sesgo por oblicuidad (skewness)\n",
    "\n",
    "Una solución puede ser transformar las variables aleatorias, de forma tal que sean normales. Se puede proponer cualquier transformación, las más comunes:\n",
    "* Raíz cuadrada $T(X)=\\sqrt(X)$\n",
    "* Raíz cúbica $T(X) = X^{\\frac{1}{3}}$\n",
    "* Logarítmo $T(X) = log(x)$\n",
    "* Inversa $T(x) = \\frac{1}{X}$\n",
    "\n"
   ]
  },
  {
   "cell_type": "code",
   "execution_count": null,
   "id": "0924d110",
   "metadata": {},
   "outputs": [],
   "source": [
    "t_data_comer1 = np.log(data_comer1)\n",
    "t_data_comer2 = np.log(data_comer2)\n",
    "\n",
    "f, ax = plt.subplots(1,2, figsize=(10,4))\n",
    "h = ax[0].hist(t_data_comer1,bins=20,density=True,color='#599AD3')\n",
    "ax[0].set_title('Comercio 1 Transformado')\n",
    "h = ax[1].hist(t_data_comer2,bins=20,density=True,color='#599AD3')\n",
    "ax[1].set_title('Comercio 2 Transformado')\n",
    "print('')\n",
    "\n",
    "testShapironormal(t_data_comer1)\n",
    "print('\\n\\n')\n",
    "testShapironormal(t_data_comer2)\n",
    "print('')"
   ]
  },
  {
   "cell_type": "code",
   "execution_count": null,
   "id": "4a8a191d",
   "metadata": {},
   "outputs": [],
   "source": [
    "# Transformada de la media poblacional.\n",
    "\n",
    "t_mu = np.log(35)"
   ]
  },
  {
   "cell_type": "markdown",
   "id": "ff939fc5",
   "metadata": {},
   "source": [
    "### Test de Homocedasticidad.\n",
    "\n",
    "El test de Homocedasticidad, es decir, de varianzas iguales, propone comparar las varianzas de dos poblaciones, bajo la hipótesis de que son iguales.\n",
    "\n",
    "El estadísitico de prueba es la distribución F:\n",
    "\n",
    "$$ F = \\frac{s_1^2}{s_2^2} = \\frac{n_2 - 1}{n_1 - 1} \\frac{\\sum_{i=1}^{n_1} x_i^2}{\\sum_{j=1}^{n_2} x_j^2} $$\n",
    "\n",
    "siendo $H_0 = \\sigma_1^2 = \\sigma_2^2$. Siguiendo el estadístico $F$ se acepta $H_0$ si \n",
    "$$ F \\in [F_{1-\\alpha/2;n_1;n_2} , F_{\\alpha/2;n_1;n_2}]$$\n",
    "\n",
    "donde $\\alpha$ es el nivel de significación de rechazo.\n"
   ]
  },
  {
   "cell_type": "code",
   "execution_count": null,
   "id": "a006c41e",
   "metadata": {},
   "outputs": [],
   "source": [
    "def f_test(group1, group2):\n",
    "    f = (np.std(group1)/np.std(group2))**2\n",
    "    n1 = len(group1)-1\n",
    "    n2 = len(group2)-1\n",
    "    p_value = 1-stats.f.cdf(f, n1, n2)\n",
    "    print(f'f: {f}, p_value: {p_value}')\n",
    "    return f, p_value\n",
    "\n",
    "print(f'Std_data_comer1: {np.std(data_comer1)} \\t Std_data_comer2: {np.std(data_comer2)} \\n')\n",
    "print(f'Std_t_data_comer1: {np.std(t_data_comer1)} \\t Std_t_data_comer2: {np.std(t_data_comer2)} \\n')\n",
    "\n",
    "f, p_value = f_test(t_data_comer1, t_data_comer2)\n",
    "if p_value > 0.05:\n",
    "    print(f'H0 aceptada (varianzas iguales) sqrt(f) = {np.sqrt(f)}')\n",
    "else:\n",
    "    print('H0 rechazada')\n",
    "    \n"
   ]
  },
  {
   "cell_type": "markdown",
   "id": "87b2367a",
   "metadata": {},
   "source": [
    "\n",
    "\n",
    "# Test de una muestra (One-Sample t-Test).  \n",
    "\n",
    "\n",
    "## Sobre las condiciones:\n",
    "Las muestras transformadas con log() cumplen:\n",
    "* Independencia.\n",
    "* Normalidad.\n",
    "* Homocedasticidad.\n",
    "\n",
    "por lo tanto se puede trabajar con ellas empleando el estadístico t-Student."
   ]
  },
  {
   "cell_type": "code",
   "execution_count": null,
   "id": "7e3af979",
   "metadata": {},
   "outputs": [],
   "source": [
    "# Z-test para evaluar con N >30\n",
    "def ztest_one(data,popmean=0):\n",
    "    # z-test (normal) de una muestra\n",
    "    z = (np.mean(data)-popmean)/(np.std(data)/np.sqrt(len(data)))\n",
    "    if z<0:\n",
    "        pvalue = 2*stats.norm.cdf(z)\n",
    "    else:\n",
    "        pvalue = 2*(1-stats.norm.cdf(z))\n",
    "    return z, pvalue"
   ]
  },
  {
   "cell_type": "markdown",
   "id": "4335b987",
   "metadata": {},
   "source": [
    "## Test de una muestra para Comercio 1 (N<30)"
   ]
  },
  {
   "cell_type": "code",
   "execution_count": null,
   "id": "84f464bc",
   "metadata": {},
   "outputs": [],
   "source": [
    "print(f'Media muestral: {np.mean(data_comer1)}  Media poblacional:{mu} \\n')\n",
    "\n",
    "print('t-test con muestras transformadas (normales).')\n",
    "st = stats.ttest_1samp(a=t_data_comer1, popmean=t_mu)\n",
    "print(f'Estadistico: {st.statistic} \\t pvalue: {st.pvalue}')"
   ]
  },
  {
   "cell_type": "markdown",
   "id": "cef44154",
   "metadata": {},
   "source": [
    "**Entonces, no se puede rechazar que la muestra Comercio 1 sea representativa de la poblacional**"
   ]
  },
  {
   "cell_type": "code",
   "execution_count": null,
   "id": "aa2cd3d3",
   "metadata": {},
   "outputs": [],
   "source": [
    "print('t-test con muestras SIN transformar (No-normales).')\n",
    "st = stats.ttest_1samp(a=data_comer1, popmean=mu)\n",
    "print(f'Estadistico: {st.statistic} \\t pvalue: {st.pvalue}')"
   ]
  },
  {
   "cell_type": "code",
   "execution_count": null,
   "id": "991613dd",
   "metadata": {},
   "outputs": [],
   "source": [
    "print('Z-test con muestras transformadas (normales)')\n",
    "z , pvalue = ztest_one(t_data_comer1, popmean=t_mu)\n",
    "print(f'Estadistico: {z} \\t pvalue: {pvalue}')"
   ]
  },
  {
   "cell_type": "markdown",
   "id": "9065c923",
   "metadata": {},
   "source": [
    "Como conclusión, la muestra Comercio 1 es asimilable a la muestra poblacional. Observar que:\n",
    "* t-test con muestras transformadas **acepta** la hipótesis nula, pero por poco margen. \n",
    "* t-test con muestras no normales, no se cumplen las hipótesis del método, y **acepta** $H_0$ con una confianza incorrecta.\n",
    "* z-test con muestras normales, rechaza $H_0$, incorrectamente la muestra, puesto que a valores similares de sus estadísticos, la distribución normal presenta menos áreas en las colas de la distribución, si se compara con $t_{n=10}$.\n",
    "\n",
    "![](imgs/Student_t.png)\n",
    "\n",
    "## Test de una muestra para Comercio 2 (N>30)\n"
   ]
  },
  {
   "cell_type": "code",
   "execution_count": null,
   "id": "1efc5592",
   "metadata": {},
   "outputs": [],
   "source": [
    "print(f'Media muestral: {np.mean(data_comer2)}  Media poblacional:{mu} \\n')\n",
    "\n",
    "print('t-test con muestras transformadas (normales).')\n",
    "st = stats.ttest_1samp(a=t_data_comer2, popmean=t_mu)\n",
    "print(f'Estadistico: {st.statistic} \\t pvalue: {st.pvalue}')"
   ]
  },
  {
   "cell_type": "code",
   "execution_count": null,
   "id": "8b7a13c6",
   "metadata": {},
   "outputs": [],
   "source": [
    "print('t-test con muestras SIN transformar (No-normales).')\n",
    "st = stats.ttest_1samp(a=data_comer2, popmean=mu)\n",
    "print(f'Estadistico: {st.statistic} \\t pvalue: {st.pvalue}')"
   ]
  },
  {
   "cell_type": "code",
   "execution_count": null,
   "id": "a1e87913",
   "metadata": {},
   "outputs": [],
   "source": [
    "print('Z-test con muestras transformadas (normales)')\n",
    "z , pvalue = ztest_one(data_comer2, popmean=mu)\n",
    "print(f'Estadistico: {z} \\t pvalue: {pvalue}')"
   ]
  },
  {
   "cell_type": "markdown",
   "id": "77576c80",
   "metadata": {},
   "source": [
    "Se observa que todos los estadísticos muestran resultado equivalentes. Esto se debe a que al ser la cantidad de muestras $N=50$ para Comercio 2, $t_{N=50}$ se aproxima mucho a una distribución normal.\n",
    "\n",
    "# Test de dos muestras (Two-Sample t-Test). \n",
    "\n",
    "Bajo este test se busca determinar si dos muestras poseen las mismas medias muestrales. Se considera que las varianzas no son conocidas, pero son similares. El análisis de Homocedasticidad muestra que cumplen tener varianzas similares. El test queda definido como:\n",
    "\n",
    "$$ t={\\frac {{\\bar {X}}_{1}-{\\bar {X}}_{2}}{s_{p}\\cdot {\\sqrt {{\\frac {1}{n_{1}}}+{\\frac {1}{n_{2}}}}}}} $$\n",
    "\n",
    "donde el $s_p$ es el desvío equivalente \n",
    "\n",
    "$$ s_{p}={\\sqrt {\\frac {\\left(n_{1}-1\\right)s_{X_{1}}^{2}+\\left(n_{2}-1\\right)s_{X_{2}}^{2}}{n_{1}+n_{2}-2}}}$$ donde $N = n_1 + n_2 -2$ son los grados de libertad del estadístico.\n",
    "\n",
    "En relación a las muestras Comercio 1 y Comercio 2, se determino que:\n",
    "* Son independientes\n",
    "* La transformada es normal\n",
    "* Hay homocedasticidad entre ambas muestras."
   ]
  },
  {
   "cell_type": "code",
   "execution_count": null,
   "id": "ab23c380",
   "metadata": {},
   "outputs": [],
   "source": [
    "print('t-test de dos muestras transformadas.')\n",
    "st = stats.ttest_ind(t_data_comer1,t_data_comer2, equal_var=True)\n",
    "print(f'Estadistico: {st.statistic} \\t pvalue: {st.pvalue}')"
   ]
  },
  {
   "cell_type": "code",
   "execution_count": null,
   "id": "6bb2e477",
   "metadata": {},
   "outputs": [],
   "source": [
    "def ztest_two(data1, data2):\n",
    "    # z-test de dos muestras, \n",
    "    # para varianzas desconocidas, pero cercanas.\n",
    "\n",
    "    n1 = len(data1)\n",
    "    n2 = len(data2)\n",
    "\n",
    "    sp = np.sqrt( ((n1-1)*np.var(data1) + (n2-1)*np.var(data2)) / (n1+n2-2))\n",
    "    nn = np.sqrt(1/len(data1)+1/len(data2))\n",
    "    # z-test (normal) de una muestra\n",
    "    z = (np.mean(data1)-np.mean(data2))/(sp*nn)\n",
    "    if z<0:\n",
    "        pvalue = 2*stats.norm.cdf(z)\n",
    "    else:\n",
    "        pvalue = 2*(1-stats.norm.cdf(z))\n",
    "    return z, pvalue\n",
    "\n",
    "print('Z-test de dos muestras transformadas.')\n",
    "z, pvalue = ztest_two(t_data_comer1, t_data_comer2)\n",
    "print(f'Estadistico: {z} \\t pvalue: {pvalue}')"
   ]
  },
  {
   "cell_type": "code",
   "execution_count": null,
   "id": "7c80b243",
   "metadata": {},
   "outputs": [],
   "source": [
    "print('Z-test de dos muestras SIN transformar (no normales).')\n",
    "z, pvalue = ztest_two(data_comer1, data_comer2)\n",
    "print(f'Estadistico: {z} \\t pvalue: {pvalue}')"
   ]
  },
  {
   "cell_type": "markdown",
   "id": "c14ed9f4",
   "metadata": {},
   "source": [
    "En todos los casos $p_{value} < 0.05$ y por lo tanto se rechaza la hipótesis nula, ambas muestras no poseen la misma media muestral, y por lo tanto se considera que son muestras de diferente distribución poblacional.\n",
    "\n",
    "Es esperable, ya que se rechazó la hipótesis de que la media muestral de Comercio 2 sea igual a la media poblacional.\n",
    "\n",
    "Hay que notar que $n1 + n2 >30$ y por lo tanto el problema se puede resolver con un z-test.\n",
    "\n",
    "# Test de muestras pareadas (Paired-Sample t-Test). \n",
    "\n",
    "El testeo de datos pareados propone realizar un prueba de hipótesis de dos muestras, pertenecientes a una misma población, pero en diferentes situaciones. Por ejemplo, para un grupo de voluntarios se estudia la tasa de enfermedad, y se comparan resultados previo y posterior al suministro de un medicamento. Entonces, el tamaño de la muestra $n$ se asume igual para las dos muestras:\n",
    "\n",
    "$$X_1 = \\{x_1^1, x_1^2, x_1 ^3, \\dots, x_1 ^n\\} ~ y ~ X_2 = \\{x_2^1, x_2^2, x_2^3, \\dots, x_2 ^n\\}$$ \n",
    "\n",
    "Siendo la muestra diferencia $d_i = \\{ x_1^i - x_2^i \\}$ con $i\\in 1 \\dots n $,  se puede definir una media muestral para la diferencia, $\\bar{d} = 1/n \\sum d_i$ y una varianza muestral $s^2_d = (1/(n-1))\\sum (d_i - \\bar{d})^2$.\n",
    "\n",
    "El contraste de hipótesis para la diferencia de las medias muestrales se convierte en un contraste sobre el valor de la media poblacional $\\mu_d = \\mu_1 - \\mu_2$. El problema, así definido, es equivalente al contraste de hipótesis de una muestra, quedando definido el estadístico t-Student de $n-1$ grados de libertad:\n",
    "\n",
    "$$t =\\frac{\\bar{d} - \\mu_d}{s_d \\big /  \\sqrt{n}} $$\n",
    "\n",
    "Teniendo en cuenta que interesa determinar si las muestras pareadas son o no parte de una misma población, el test consiste, entonces, en comprobar si la diferencia entre las dos medias poblacionales es nula, $\\mu_d=0$, \n",
    "$$\n",
    "\\begin{matrix}\n",
    " Aceptar \\, \\mathcal{H}_0 & si & \\mu_d = 0: \\mu_1=\\mu_2 \\\\\n",
    "Rechazar \\, \\mathcal{H}_0  & si & \\mu_d \\not = 0: \\mu_1 \\not= \\mu_2\n",
    "\\end{matrix}\n",
    "$$\n",
    "\n",
    "y bajo la hipótesis $H_0$ el estadístico se reduce a:\n",
    "\n",
    "$$t =\\frac{\\bar{d}}{s_d \\big /  \\sqrt{n}} $$\n",
    "\n"
   ]
  },
  {
   "cell_type": "code",
   "execution_count": null,
   "id": "cba8cd32",
   "metadata": {},
   "outputs": [],
   "source": []
  },
  {
   "cell_type": "code",
   "execution_count": null,
   "id": "d258a410",
   "metadata": {},
   "outputs": [],
   "source": []
  }
 ],
 "metadata": {
  "kernelspec": {
   "display_name": "Python 3 (ipykernel)",
   "language": "python",
   "name": "python3"
  },
  "language_info": {
   "codemirror_mode": {
    "name": "ipython",
    "version": 3
   },
   "file_extension": ".py",
   "mimetype": "text/x-python",
   "name": "python",
   "nbconvert_exporter": "python",
   "pygments_lexer": "ipython3",
   "version": "3.10.12"
  },
  "varInspector": {
   "cols": {
    "lenName": 16,
    "lenType": 16,
    "lenVar": 40
   },
   "kernels_config": {
    "python": {
     "delete_cmd_postfix": "",
     "delete_cmd_prefix": "del ",
     "library": "var_list.py",
     "varRefreshCmd": "print(var_dic_list())"
    },
    "r": {
     "delete_cmd_postfix": ") ",
     "delete_cmd_prefix": "rm(",
     "library": "var_list.r",
     "varRefreshCmd": "cat(var_dic_list()) "
    }
   },
   "types_to_exclude": [
    "module",
    "function",
    "builtin_function_or_method",
    "instance",
    "_Feature"
   ],
   "window_display": false
  }
 },
 "nbformat": 4,
 "nbformat_minor": 5
}
